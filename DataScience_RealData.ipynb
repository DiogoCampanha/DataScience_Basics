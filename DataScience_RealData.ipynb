{
  "nbformat": 4,
  "nbformat_minor": 0,
  "metadata": {
    "colab": {
      "provenance": [],
      "toc_visible": true,
      "authorship_tag": "ABX9TyMjky/m120m+hXrptxVHN9V",
      "include_colab_link": true
    },
    "kernelspec": {
      "name": "python3",
      "display_name": "Python 3"
    },
    "language_info": {
      "name": "python"
    }
  },
  "cells": [
    {
      "cell_type": "markdown",
      "metadata": {
        "id": "view-in-github",
        "colab_type": "text"
      },
      "source": [
        "<a href=\"https://colab.research.google.com/github/DiogoCampanha/DataScience_Basics/blob/main/DataScience_RealData.ipynb\" target=\"_parent\"><img src=\"https://colab.research.google.com/assets/colab-badge.svg\" alt=\"Open In Colab\"/></a>"
      ]
    },
    {
      "cell_type": "code",
      "execution_count": null,
      "metadata": {
        "id": "aIAXjkD_IJzy"
      },
      "outputs": [],
      "source": []
    },
    {
      "cell_type": "code",
      "execution_count": 4,
      "metadata": {
        "id": "4cHoZ1y6GmDB"
      },
      "outputs": [],
      "source": [
        "import random\n",
        "import statistics as sta\n",
        "import scipy.stats as sp\n",
        "import pandas as pd\n",
        "import matplotlib.pyplot as plt\n",
        "import numpy as np\n",
        "\n",
        "\n"
      ]
    },
    {
      "cell_type": "code",
      "source": [
        "raw_data = 'https://raw.githubusercontent.com/DiogoCampanha/DataScience_Basics/main/avocado.csv'\n",
        "dataframe = pd.read_csv(raw_data)\n",
        "\n",
        "#teste = data.values.tolist()\n",
        "data = dataframe['Volume'].tolist()"
      ],
      "metadata": {
        "colab": {
          "base_uri": "https://localhost:8080/"
        },
        "id": "kzqsHRude-jo",
        "outputId": "2ff57cff-0844-4544-f507-04e0083203b3"
      },
      "execution_count": 51,
      "outputs": [
        {
          "output_type": "execute_result",
          "data": {
            "text/plain": [
              "list"
            ]
          },
          "metadata": {},
          "execution_count": 51
        }
      ]
    },
    {
      "cell_type": "code",
      "source": [
        "def calcula_media(lista):\n",
        "  media = sum(lista)/len(lista)\n",
        "  return media\n",
        " \n"
      ],
      "metadata": {
        "id": "4FBLqfYNHlq3"
      },
      "execution_count": 50,
      "outputs": []
    },
    {
      "cell_type": "code",
      "source": [
        "def calcula_mediana(lista):\n",
        "  lista.sort()\n",
        "  if len(lista) % 2 == 0:\n",
        "    meio = len(lista)//2 - 1\n",
        "    meio_1 = len(lista)//2\n",
        "    mediana = (lista[meio] + lista[meio_1])/2\n",
        "  if len(lista) % 2 != 0:\n",
        "    mediana = lista[len(lista)//2 + 1]\n",
        "  return mediana\n"
      ],
      "metadata": {
        "id": "0lbG44UjH99i"
      },
      "execution_count": 10,
      "outputs": []
    },
    {
      "cell_type": "code",
      "source": [
        "def calcula_variancia(lista):\n",
        "  parte = 0\n",
        "  soma = 0\n",
        "  for num in range(len(lista)):\n",
        "    media = calcula_media(lista)\n",
        "    parte = (media-lista[num])**2\n",
        "    soma = parte + soma\n",
        "  variancia = (soma)/(len(lista) - 1)\n",
        "  print(\"A Variância Amostral é: %.2f\" %variancia)"
      ],
      "metadata": {
        "id": "2MraxXd-JYyL"
      },
      "execution_count": 12,
      "outputs": []
    },
    {
      "cell_type": "code",
      "source": [
        "def calcula_variancia_populacional(lista):\n",
        "  parte = 0\n",
        "  soma = 0\n",
        "  for num in range(len(lista)):\n",
        "    media = calcula_media(lista)\n",
        "    parte = (media-lista[num])**2\n",
        "    soma = parte + soma\n",
        "  variancia = (soma)/(len(lista))\n",
        "  print(\"A Variância Populacional é: %.2f\" %variancia)"
      ],
      "metadata": {
        "id": "mPiyP3YTF6eq"
      },
      "execution_count": 13,
      "outputs": []
    },
    {
      "cell_type": "code",
      "source": [
        "def calcula_desvpad(lista):\n",
        "  parte = 0\n",
        "  soma = 0\n",
        "  for num in range(len(lista)):\n",
        "    parte = (lista[num]-calcula_media(lista))**2\n",
        "    soma = parte + soma\n",
        "  desv_pad = (soma/(len(lista)-1))**0.5\n",
        "  return desv_pad"
      ],
      "metadata": {
        "id": "bPKi3shNUMKp"
      },
      "execution_count": 14,
      "outputs": []
    },
    {
      "cell_type": "code",
      "source": [
        "def calcula_desvpad_populacional(lista):\n",
        "  parte = 0\n",
        "  soma = 0\n",
        "  for num in range(len(lista)):\n",
        "    parte = (lista[num]-calcula_media(lista))**2\n",
        "    soma = parte + soma\n",
        "  desv_pad = (soma/(len(lista)))**0.5\n",
        "  return desv_pad"
      ],
      "metadata": {
        "id": "pPg3Q1ozGPeV"
      },
      "execution_count": 15,
      "outputs": []
    },
    {
      "cell_type": "code",
      "source": [
        "def calcula_r(lista):\n",
        "  r = calcula_desvpad(lista)/calcula_media(lista)\n",
        "  return r\n"
      ],
      "metadata": {
        "id": "ji0pfee9sK1B"
      },
      "execution_count": 16,
      "outputs": []
    },
    {
      "cell_type": "code",
      "source": [
        "def calcula_quartis(lista):\n",
        "  mediana = calcula_mediana(lista)\n",
        "  lista_inferior = []\n",
        "  for i in range(len(lista)):\n",
        "    if lista[i] < mediana:\n",
        "      lista_inferior.append(lista[i])\n",
        "  Q1 = calcula_mediana(lista_inferior)\n",
        "  lista_superior = []\n",
        "  for i in range(len(lista)):\n",
        "    if lista[i] > mediana:\n",
        "      lista_superior.append(lista[i])\n",
        "  Q3 = calcula_mediana(lista_superior)\n",
        "\n",
        "  return Q1, Q3\n",
        "\n"
      ],
      "metadata": {
        "id": "5pEAxHg7aODR"
      },
      "execution_count": 17,
      "outputs": []
    },
    {
      "cell_type": "code",
      "source": [
        "print('Media é:  %.2f' %calcula_media(data))\n",
        "print(\"Mediana é: %.2f\" %calcula_mediana(data))\n",
        "calcula_variancia(data)\n",
        "calcula_variancia_populacional(data)\n",
        "print('Desvio Padrão Amostral é: %.2f' %calcula_desvpad(data))\n",
        "print('Desvio Padrão Populacional é: %.2f' %calcula_desvpad_populacional(data))\n",
        "print('Coeficiente de Variação é: %.2f' %calcula_r(data))\n",
        "print('Quartil 1 e 3 são: ', calcula_quartis(data))\n",
        "\n",
        "\n",
        "print(\"Média Statistics = %.2f\" %sta.mean(data))\n",
        "print(\"Mediana Statistics = %.2f\" %sta.median(data))\n",
        "print(\"Variância Amostral Statistics = %.2f\" %sta.variance(data))\n",
        "print(\"Variância Populacional Statistics = %.2f\" %sta.pvariance(data))\n",
        "print(\"Desvio Padrão Amostral Statistics = %.2f\" %sta.stdev(data))\n",
        "print(\"Desvio Padrão Populacional Statistics = %.2f\" %sta.pstdev(data))\n",
        "print('Coeficiente de Variação Statistics = %.2f' %(sta.stdev(data)/sta.mean(data)))\n",
        "print('Quartil 1 Scipy = ', sp.scoreatpercentile(data,25))\n",
        "print('Quartil 3 Scipy = ', sp.scoreatpercentile(data,75))\n",
        "\n",
        "chart = pd.DataFrame(data)\n",
        "chart.hist\n",
        "\n",
        "fig = plt.figure(figsize =(5, 7))\n",
        "plt.boxplot(data)\n",
        "plt.show()"
      ],
      "metadata": {
        "colab": {
          "base_uri": "https://localhost:8080/",
          "height": 728
        },
        "id": "QeGLoJwaI9YV",
        "outputId": "161980f6-5f28-4c8a-ea95-ff8a84792f9e"
      },
      "execution_count": 55,
      "outputs": [
        {
          "output_type": "stream",
          "name": "stdout",
          "text": [
            "Media é:  850644.01\n",
            "Mediana é: 107431.24\n",
            "A Variância Amostral é: 11926975521801.26\n",
            "A Variância Populacional é: 11926321953083.98\n",
            "Desvio Padrão Amostral é: 3453545.36\n",
            "Desvio Padrão Populacional é: 3453450.73\n",
            "Coeficiente de Variação é: 4.06\n",
            "Quartil 1 e 3 são:  (10842.77, 433251.71)\n",
            "Média Statistics = 850644.01\n",
            "Mediana Statistics = 107376.76\n",
            "Variância Amostral Statistics = 11926975521801.26\n",
            "Variância Populacional Statistics = 11926321953083.97\n",
            "Desvio Padrão Amostral Statistics = 3453545.36\n",
            "Desvio Padrão Populacional Statistics = 3453450.73\n",
            "Coeficiente de Variação Statistics = 4.06\n",
            "Quartil 1 Scipy =  10838.58\n",
            "Quartil 3 Scipy =  432962.29\n"
          ]
        },
        {
          "output_type": "display_data",
          "data": {
            "text/plain": [
              "<Figure size 360x504 with 1 Axes>"
            ],
            "image/png": "[encoded data removed]"
          },
          "metadata": {
            "needs_background": "light"
          }
        }
      ]
    }
  ]
}